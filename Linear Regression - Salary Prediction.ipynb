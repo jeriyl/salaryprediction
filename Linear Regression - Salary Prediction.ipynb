{
 "cells": [
  {
   "cell_type": "markdown",
   "id": "0d985834",
   "metadata": {},
   "source": [
    "**Introduction: Salary Prediction Project**\n",
    "\n",
    "In today's dynamic job market, understanding the factors influencing salary outcomes is crucial for both job seekers and employers. The Salary Prediction Project aims to leverage simple linear regression techniques to predict salaries based on years of experience, providing valuable insights for individuals and organizations alike.\n",
    "\n",
    "**Task:** The primary task of this project is to develop a predictive model that estimates salary based on an individual's years of experience. By utilizing simple linear regression, we can establish a relationship between years of experience and salary and use this relationship to make accurate salary predictions.\n",
    "\n",
    "**Why:** Predicting salaries based on years of experience offers several benefits. For job seekers, it provides valuable insights into salary expectations and helps negotiate fair compensation packages. For employers, it aids in setting competitive salary ranges, optimizing workforce management, and attracting top talent.\n",
    "\n",
    "**Example:** Consider a scenario where a recent graduate is entering the job market and wants to estimate their potential salary based on their years of experience. By utilizing the predictive model developed in this project, the graduate can input their years of experience and obtain an estimate of their expected salary. This information empowers the graduate to make informed decisions regarding job offers and negotiate salaries effectively.\n",
    "\n",
    "**Column Details:**\n",
    "- **YearsExperience:** This column represents the number of years of professional experience possessed by an individual. It serves as the independent variable in our predictive model, influencing the salary outcome.\n",
    "- **Salary:** The salary column denotes the corresponding salary earned by individuals based on their years of experience. It serves as the dependent variable in our predictive model, which we aim to predict based on years of experience.\n",
    "\n",
    "**What We're Going to Predict:** In this project, we aim to predict salaries based on individuals' years of experience. By establishing a relationship between years of experience and salary through simple linear regression, we can develop a predictive model that accurately estimates salaries for individuals at different career stages. This predictive model holds significant value for both job seekers and employers, facilitating fair compensation practices and informed decision-making in the job market."
   ]
  },
  {
   "cell_type": "code",
   "execution_count": null,
   "id": "9f2ce1a0",
   "metadata": {},
   "outputs": [],
   "source": []
  },
  {
   "cell_type": "code",
   "execution_count": null,
   "id": "628c42f5",
   "metadata": {},
   "outputs": [],
   "source": []
  },
  {
   "cell_type": "markdown",
   "id": "802ff9cd",
   "metadata": {},
   "source": [
    "**2. Data Collection:**\n",
    "\n",
    "**Task:** The task in this phase involves collecting the salary dataset, comprising information about individuals' years of experience and corresponding salaries.\n",
    "\n",
    "**Why:** Data collection is the foundational step in any data analysis project. It ensures that we have the necessary raw material to perform meaningful analysis and develop predictive models. In the context of the Salary Prediction Project, accurate and relevant data collection is vital for building a model that can effectively estimate salaries based on years of experience.\n",
    "\n",
    "**Example:** Imagine you're a chef preparing to cook a delicious meal. Before you can start cooking, you need to gather all the required ingredients from the pantry and refrigerator. Similarly, in data analysis, gathering the dataset is like collecting ingredients for a recipe. Without the right ingredients, your analysis will lack substance and accuracy. In our project, we collect the salary dataset, which serves as the foundation for our predictive model. Just as a chef carefully selects each ingredient for optimal flavor, we gather data meticulously to ensure the quality and reliability of our analysis.\n",
    "\n",
    "https://www.kaggle.com/datasets/karthickveerakumar/salary-data-simple-linear-regression/download?datasetVersionNumber=1\n",
    "\n",
    "Data Collection Code Sample:\n",
    "\n",
    "```python\n",
    "import pandas as pd\n",
    "\n",
    "# Load the salary dataset\n",
    "salary_data = pd.read_csv(\"salary_dataset.csv\")\n",
    "\n",
    "# Display the first few rows of the dataset\n",
    "print(salary_data.head())\n",
    "```\n",
    "\n",
    "In this code snippet, we use the pandas library to load the salary dataset from a CSV file. We then display the first few rows of the dataset to verify that the data has been successfully loaded. This simple yet essential step sets the stage for further analysis and model development."
   ]
  },
  {
   "cell_type": "code",
   "execution_count": 1,
   "id": "d856f1a2",
   "metadata": {},
   "outputs": [],
   "source": [
    "import pandas as pd\n",
    "salary_data=pd.read_csv(\"Salary_Data.csv\")"
   ]
  },
  {
   "cell_type": "code",
   "execution_count": 2,
   "id": "a45bb3a9",
   "metadata": {},
   "outputs": [
    {
     "data": {
      "text/html": [
       "<div>\n",
       "<style scoped>\n",
       "    .dataframe tbody tr th:only-of-type {\n",
       "        vertical-align: middle;\n",
       "    }\n",
       "\n",
       "    .dataframe tbody tr th {\n",
       "        vertical-align: top;\n",
       "    }\n",
       "\n",
       "    .dataframe thead th {\n",
       "        text-align: right;\n",
       "    }\n",
       "</style>\n",
       "<table border=\"1\" class=\"dataframe\">\n",
       "  <thead>\n",
       "    <tr style=\"text-align: right;\">\n",
       "      <th></th>\n",
       "      <th>YearsExperience</th>\n",
       "      <th>Salary</th>\n",
       "    </tr>\n",
       "  </thead>\n",
       "  <tbody>\n",
       "    <tr>\n",
       "      <th>0</th>\n",
       "      <td>1.1</td>\n",
       "      <td>39343.0</td>\n",
       "    </tr>\n",
       "    <tr>\n",
       "      <th>1</th>\n",
       "      <td>1.3</td>\n",
       "      <td>46205.0</td>\n",
       "    </tr>\n",
       "    <tr>\n",
       "      <th>2</th>\n",
       "      <td>1.5</td>\n",
       "      <td>37731.0</td>\n",
       "    </tr>\n",
       "    <tr>\n",
       "      <th>3</th>\n",
       "      <td>2.0</td>\n",
       "      <td>43525.0</td>\n",
       "    </tr>\n",
       "    <tr>\n",
       "      <th>4</th>\n",
       "      <td>2.2</td>\n",
       "      <td>39891.0</td>\n",
       "    </tr>\n",
       "    <tr>\n",
       "      <th>5</th>\n",
       "      <td>2.9</td>\n",
       "      <td>56642.0</td>\n",
       "    </tr>\n",
       "    <tr>\n",
       "      <th>6</th>\n",
       "      <td>3.0</td>\n",
       "      <td>60150.0</td>\n",
       "    </tr>\n",
       "    <tr>\n",
       "      <th>7</th>\n",
       "      <td>3.2</td>\n",
       "      <td>54445.0</td>\n",
       "    </tr>\n",
       "    <tr>\n",
       "      <th>8</th>\n",
       "      <td>3.2</td>\n",
       "      <td>64445.0</td>\n",
       "    </tr>\n",
       "    <tr>\n",
       "      <th>9</th>\n",
       "      <td>3.7</td>\n",
       "      <td>57189.0</td>\n",
       "    </tr>\n",
       "    <tr>\n",
       "      <th>10</th>\n",
       "      <td>3.9</td>\n",
       "      <td>63218.0</td>\n",
       "    </tr>\n",
       "    <tr>\n",
       "      <th>11</th>\n",
       "      <td>4.0</td>\n",
       "      <td>55794.0</td>\n",
       "    </tr>\n",
       "    <tr>\n",
       "      <th>12</th>\n",
       "      <td>4.0</td>\n",
       "      <td>56957.0</td>\n",
       "    </tr>\n",
       "    <tr>\n",
       "      <th>13</th>\n",
       "      <td>4.1</td>\n",
       "      <td>57081.0</td>\n",
       "    </tr>\n",
       "    <tr>\n",
       "      <th>14</th>\n",
       "      <td>4.5</td>\n",
       "      <td>61111.0</td>\n",
       "    </tr>\n",
       "    <tr>\n",
       "      <th>15</th>\n",
       "      <td>4.9</td>\n",
       "      <td>67938.0</td>\n",
       "    </tr>\n",
       "    <tr>\n",
       "      <th>16</th>\n",
       "      <td>5.1</td>\n",
       "      <td>66029.0</td>\n",
       "    </tr>\n",
       "    <tr>\n",
       "      <th>17</th>\n",
       "      <td>5.3</td>\n",
       "      <td>83088.0</td>\n",
       "    </tr>\n",
       "    <tr>\n",
       "      <th>18</th>\n",
       "      <td>5.9</td>\n",
       "      <td>81363.0</td>\n",
       "    </tr>\n",
       "    <tr>\n",
       "      <th>19</th>\n",
       "      <td>6.0</td>\n",
       "      <td>93940.0</td>\n",
       "    </tr>\n",
       "    <tr>\n",
       "      <th>20</th>\n",
       "      <td>6.8</td>\n",
       "      <td>91738.0</td>\n",
       "    </tr>\n",
       "    <tr>\n",
       "      <th>21</th>\n",
       "      <td>7.1</td>\n",
       "      <td>98273.0</td>\n",
       "    </tr>\n",
       "    <tr>\n",
       "      <th>22</th>\n",
       "      <td>7.9</td>\n",
       "      <td>101302.0</td>\n",
       "    </tr>\n",
       "    <tr>\n",
       "      <th>23</th>\n",
       "      <td>8.2</td>\n",
       "      <td>113812.0</td>\n",
       "    </tr>\n",
       "    <tr>\n",
       "      <th>24</th>\n",
       "      <td>8.7</td>\n",
       "      <td>109431.0</td>\n",
       "    </tr>\n",
       "    <tr>\n",
       "      <th>25</th>\n",
       "      <td>9.0</td>\n",
       "      <td>105582.0</td>\n",
       "    </tr>\n",
       "    <tr>\n",
       "      <th>26</th>\n",
       "      <td>9.5</td>\n",
       "      <td>116969.0</td>\n",
       "    </tr>\n",
       "    <tr>\n",
       "      <th>27</th>\n",
       "      <td>9.6</td>\n",
       "      <td>112635.0</td>\n",
       "    </tr>\n",
       "    <tr>\n",
       "      <th>28</th>\n",
       "      <td>10.3</td>\n",
       "      <td>122391.0</td>\n",
       "    </tr>\n",
       "    <tr>\n",
       "      <th>29</th>\n",
       "      <td>10.5</td>\n",
       "      <td>121872.0</td>\n",
       "    </tr>\n",
       "  </tbody>\n",
       "</table>\n",
       "</div>"
      ],
      "text/plain": [
       "    YearsExperience    Salary\n",
       "0               1.1   39343.0\n",
       "1               1.3   46205.0\n",
       "2               1.5   37731.0\n",
       "3               2.0   43525.0\n",
       "4               2.2   39891.0\n",
       "5               2.9   56642.0\n",
       "6               3.0   60150.0\n",
       "7               3.2   54445.0\n",
       "8               3.2   64445.0\n",
       "9               3.7   57189.0\n",
       "10              3.9   63218.0\n",
       "11              4.0   55794.0\n",
       "12              4.0   56957.0\n",
       "13              4.1   57081.0\n",
       "14              4.5   61111.0\n",
       "15              4.9   67938.0\n",
       "16              5.1   66029.0\n",
       "17              5.3   83088.0\n",
       "18              5.9   81363.0\n",
       "19              6.0   93940.0\n",
       "20              6.8   91738.0\n",
       "21              7.1   98273.0\n",
       "22              7.9  101302.0\n",
       "23              8.2  113812.0\n",
       "24              8.7  109431.0\n",
       "25              9.0  105582.0\n",
       "26              9.5  116969.0\n",
       "27              9.6  112635.0\n",
       "28             10.3  122391.0\n",
       "29             10.5  121872.0"
      ]
     },
     "execution_count": 2,
     "metadata": {},
     "output_type": "execute_result"
    }
   ],
   "source": [
    "salary_data"
   ]
  },
  {
   "cell_type": "markdown",
   "id": "cbfb80fc",
   "metadata": {},
   "source": [
    "**3. Exploratory Data Analysis (EDA):**\n",
    "\n",
    "**Task:** The task in this phase is to explore the salary dataset to uncover patterns, trends, and potential insights.\n",
    "\n",
    "**Why:** Exploratory Data Analysis (EDA) is a critical step in the data analysis process as it helps us understand the dataset's characteristics, distributions, and relationships between variables. By visualizing and summarizing the data, we can identify outliers, missing values, and potential correlations, which guide subsequent analysis steps and model building.\n",
    "\n",
    "**Example:** Consider you're about to embark on a hiking trip in an unfamiliar terrain. Before starting your journey, you examine a topographic map to understand the terrain's features, such as elevation, trails, and landmarks. Similarly, in data analysis, EDA serves as our map to navigate through the dataset's landscape. By visualizing the distribution of salaries and years of experience, for example, we can identify common salary ranges, outliers, and trends that may influence our predictive model. This exploration allows us to formulate hypotheses and refine our analysis approach accordingly.\n",
    "\n",
    "**Math Technique:** One mathematical technique commonly used in EDA is calculating summary statistics such as mean, median, standard deviation, and percentiles. These metrics provide insights into the central tendency and variability of the data, helping us understand its distribution.\n",
    "\n",
    "**Visual Technique:** Visualization techniques, such as histograms, scatter plots, and box plots, offer intuitive ways to explore relationships between variables and detect patterns in the data. Visual representations enhance our understanding of complex datasets and facilitate the identification of trends and outliers.\n",
    "\n",
    "```python\n",
    "import seaborn as sns\n",
    "import matplotlib.pyplot as plt\n",
    "\n",
    "# Visualizing the distribution of Salary\n",
    "sns.histplot(data=salary_data, x='Salary', bins=20, kde=True)\n",
    "plt.title('Distribution of Salary')\n",
    "plt.xlabel('Salary')\n",
    "plt.ylabel('Frequency')\n",
    "plt.show()\n",
    "\n",
    "# Visualizing the relationship between YearsExperience and Salary\n",
    "sns.scatterplot(data=salary_data, x='YearsExperience', y='Salary')\n",
    "plt.title('Relationship between YearsExperience and Salary')\n",
    "plt.xlabel('Years of Experience')\n",
    "plt.ylabel('Salary')\n",
    "plt.show()\n",
    "```\n",
    "\n",
    "In the code samples above, we use seaborn and matplotlib libraries to create histograms and scatter plots for visualizing the distribution of salaries and the relationship between years of experience and salary, respectively. These visualizations provide valuable insights into the dataset, aiding in our exploratory analysis."
   ]
  },
  {
   "cell_type": "code",
   "execution_count": 3,
   "id": "b98fe3aa",
   "metadata": {},
   "outputs": [],
   "source": [
    "import seaborn as sns\n",
    "import matplotlib.pyplot as plt"
   ]
  },
  {
   "cell_type": "code",
   "execution_count": 6,
   "id": "08098a42",
   "metadata": {},
   "outputs": [
    {
     "data": {
      "image/png": "[encoded data removed]",
      "text/plain": [
       "<Figure size 640x480 with 1 Axes>"
      ]
     },
     "metadata": {},
     "output_type": "display_data"
    }
   ],
   "source": [
    "sns.histplot(data=salary_data,x='Salary',bins=20,kde=True)\n",
    "plt.title(\"Salary Distribution\")\n",
    "plt.xlabel(\"Salary\")\n",
    "plt.ylabel(\"Frequency\")\n",
    "plt.show()"
   ]
  },
  {
   "cell_type": "code",
   "execution_count": 9,
   "id": "88df2055",
   "metadata": {},
   "outputs": [
    {
     "data": {
      "image/png": "[encoded data removed]",
      "text/plain": [
       "<Figure size 640x480 with 1 Axes>"
      ]
     },
     "metadata": {},
     "output_type": "display_data"
    }
   ],
   "source": [
    "sns.scatterplot(data=salary_data, x=\"YearsExperience\",y=\"Salary\")\n",
    "plt.xlabel(\"Years of Experience\")\n",
    "plt.show()"
   ]
  },
  {
   "cell_type": "markdown",
   "id": "83c71ccd",
   "metadata": {},
   "source": [
    "**4. Preprocessing and Feature Engineering:**\n",
    "\n",
    "**Task:** The task in this phase involves cleaning the data, handling missing values, and creating new features if needed.\n",
    "\n",
    "**Why:** Preprocessing and feature engineering are crucial steps in the data preparation process before modeling. Cleaning the data ensures its quality and integrity by addressing issues such as missing values, outliers, and inconsistencies. Feature engineering involves transforming raw data into meaningful features that enhance the predictive power of the model, capturing important patterns and relationships.\n",
    "\n",
    "**Example:** Let's consider you're preparing to bake a cake. Before you start mixing the ingredients, you clean and organize them to ensure they're of good quality and free from impurities. Similarly, in data analysis, we clean and preprocess the dataset to ensure it's free from errors and inconsistencies. Feature engineering is like adding special ingredients or flavors to the cake to enhance its taste. By creating new features or transforming existing ones, we extract valuable information from the data that can improve the model's performance.\n",
    "\n",
    "**Techniques:**\n",
    "\n",
    "1. **Imputation:** One technique for handling missing values is imputation, where missing values are filled in using methods such as mean, median, or mode imputation.\n",
    "\n",
    "2. **Normalization/Standardization:** Scaling numerical features to a similar range can improve the model's performance and convergence. Techniques like Min-Max scaling or Standard scaling are commonly used.\n",
    "\n",
    "3. **One-Hot Encoding:** For categorical variables, one-hot encoding converts them into binary vectors, allowing models to interpret categorical data effectively.\n",
    "\n",
    "4. **Feature Transformation:** Techniques such as polynomial features or interaction terms can capture non-linear relationships or interactions between variables, enhancing the model's ability to capture complex patterns.\n",
    "\n",
    "```python\n",
    "from sklearn.impute import SimpleImputer\n",
    "from sklearn.preprocessing import StandardScaler, OneHotEncoder\n",
    "from sklearn.compose import ColumnTransformer\n",
    "from sklearn.pipeline import Pipeline\n",
    "\n",
    "# Define preprocessing steps\n",
    "numeric_transformer = Pipeline(steps=[\n",
    "    ('imputer', SimpleImputer(strategy='median')),\n",
    "    ('scaler', StandardScaler())\n",
    "])\n",
    "\n",
    "categorical_transformer = Pipeline(steps=[\n",
    "    ('imputer', SimpleImputer(strategy='constant', fill_value='missing')),\n",
    "    ('onehot', OneHotEncoder(handle_unknown='ignore'))\n",
    "])\n",
    "\n",
    "# Combine preprocessing steps for different types of features\n",
    "preprocessor = ColumnTransformer(\n",
    "    transformers=[\n",
    "        ('num', numeric_transformer, numeric_features),\n",
    "        ('cat', categorical_transformer, categorical_features)\n",
    "    ])\n",
    "\n",
    "# Apply preprocessing to the dataset\n",
    "X_processed = preprocessor.fit_transform(X)\n",
    "```\n",
    "\n",
    "In the code sample above, we define a preprocessing pipeline using scikit-learn's `Pipeline` and `ColumnTransformer` classes. The pipeline consists of imputation and scaling steps for numerical features, and imputation and one-hot encoding steps for categorical features. This allows us to preprocess the data efficiently before feeding it into the model."
   ]
  },
  {
   "cell_type": "code",
   "execution_count": 10,
   "id": "6537b592",
   "metadata": {},
   "outputs": [],
   "source": [
    "from sklearn.impute import SimpleImputer\n",
    "from sklearn.preprocessing import StandardScaler, OneHotEncoder\n",
    "from sklearn.compose import ColumnTransformer\n",
    "from sklearn.pipeline import Pipeline"
   ]
  },
  {
   "cell_type": "code",
   "execution_count": 13,
   "id": "940844df",
   "metadata": {},
   "outputs": [
    {
     "data": {
      "text/html": [
       "<div>\n",
       "<style scoped>\n",
       "    .dataframe tbody tr th:only-of-type {\n",
       "        vertical-align: middle;\n",
       "    }\n",
       "\n",
       "    .dataframe tbody tr th {\n",
       "        vertical-align: top;\n",
       "    }\n",
       "\n",
       "    .dataframe thead th {\n",
       "        text-align: right;\n",
       "    }\n",
       "</style>\n",
       "<table border=\"1\" class=\"dataframe\">\n",
       "  <thead>\n",
       "    <tr style=\"text-align: right;\">\n",
       "      <th></th>\n",
       "      <th>YearsExperience</th>\n",
       "      <th>Salary</th>\n",
       "    </tr>\n",
       "  </thead>\n",
       "  <tbody>\n",
       "    <tr>\n",
       "      <th>0</th>\n",
       "      <td>1.1</td>\n",
       "      <td>39343.0</td>\n",
       "    </tr>\n",
       "    <tr>\n",
       "      <th>1</th>\n",
       "      <td>1.3</td>\n",
       "      <td>46205.0</td>\n",
       "    </tr>\n",
       "    <tr>\n",
       "      <th>2</th>\n",
       "      <td>1.5</td>\n",
       "      <td>37731.0</td>\n",
       "    </tr>\n",
       "    <tr>\n",
       "      <th>3</th>\n",
       "      <td>2.0</td>\n",
       "      <td>43525.0</td>\n",
       "    </tr>\n",
       "    <tr>\n",
       "      <th>4</th>\n",
       "      <td>2.2</td>\n",
       "      <td>39891.0</td>\n",
       "    </tr>\n",
       "  </tbody>\n",
       "</table>\n",
       "</div>"
      ],
      "text/plain": [
       "   YearsExperience   Salary\n",
       "0              1.1  39343.0\n",
       "1              1.3  46205.0\n",
       "2              1.5  37731.0\n",
       "3              2.0  43525.0\n",
       "4              2.2  39891.0"
      ]
     },
     "execution_count": 13,
     "metadata": {},
     "output_type": "execute_result"
    }
   ],
   "source": [
    "salary_data.head()"
   ]
  },
  {
   "cell_type": "code",
   "execution_count": 14,
   "id": "190341ed",
   "metadata": {},
   "outputs": [],
   "source": [
    "X=salary_data['YearsExperience']\n",
    "Y=salary_data['Salary']"
   ]
  },
  {
   "cell_type": "code",
   "execution_count": 18,
   "metadata": {},
   "outputs": [],
   "source": [
    "from sklearn.model_selection import train_test_split\n",
    "scaler = StandardScaler()\n",
    "X_scaled = scaler.fit_transform(salary_data[['YearsExperience']])\n",
    "X_train, X_test, y_train, y_test = train_test_split(X_scaled, salary_data['Salary'], test_size=0.2, random_state=42)\n"
   ]
  },
  {
   "cell_type": "code",
   "execution_count": null,
   "id": "2836690c",
   "metadata": {},
   "outputs": [],
   "source": [
    "numeric_transformer=Pipeline(steps=[('imputer',SimpleImputer(strategy='median')),('scaler',StandardScaler())])\n",
    "categorical_transformer=Pipeline(steps=[('imputer',SimpleImputer(strategy='constant',fill_value='missing')),\n",
    "                                        ('onehot',OneHotEncoder(handle_unknown='ignore'))])\n",
    "preprocessor=ColumnTransformer(transformers=[('num',numeric_transformer,numeric_feautures),('cat',categorical_transformer,categorical_feautures)])\n",
    "X_processed=preprocessor.fit_transform(X)"
   ]
  },
  {
   "cell_type": "markdown",
   "id": "0a541d48",
   "metadata": {},
   "source": [
    "**5. Model Building:**\n",
    "\n",
    "**Task:** The task here is to build a simple linear regression model to predict salaries based on years of experience.\n",
    "\n",
    "**Why:** Model building is fundamental in predictive analytics as it aims to create a mathematical representation of the relationship between predictor variables (independent variables) and the target variable (dependent variable). In the case of simple linear regression, we seek to understand how changes in one predictor variable (years of experience) affect the target variable (salary).\n",
    "\n",
    "**Example:** Consider a scenario where you're trying to draw a straight line that best fits a scatter plot of points on a graph. This line represents the relationship between two variables. Similarly, in model building, we aim to find the best-fitting line (regression line) that represents the relationship between years of experience and salary. This line allows us to make predictions about salaries based on an individual's years of experience. For instance, if the regression line suggests that for every additional year of experience, the salary increases by a certain amount, we can use this information to estimate salaries for different levels of experience.\n",
    "\n",
    "**Techniques:**\n",
    "\n",
    "1. **Simple Linear Regression:** This technique is suitable when there is a linear relationship between the predictor and target variables. It assumes that the relationship between the variables can be approximated by a straight line.\n",
    "\n",
    "2. **Polynomial Regression:** If the relationship between the predictor and target variables is non-linear, polynomial regression can be used to capture higher-order relationships by fitting polynomial functions to the data.\n",
    "\n",
    "3. **Regularization Techniques:** Techniques like Ridge regression and Lasso regression can be employed to prevent overfitting and improve the model's generalization performance.\n",
    "\n",
    "```python\n",
    "from sklearn.linear_model import LinearRegression\n",
    "\n",
    "# Initialize the linear regression model\n",
    "model = LinearRegression()\n",
    "\n",
    "# Fit the model to the training data\n",
    "model.fit(X_train, y_train)\n",
    "\n",
    "# Predict salaries using the trained model\n",
    "y_pred = model.predict(X_test)\n",
    "```\n",
    "\n",
    "In the code sample above, we use scikit-learn's `LinearRegression` class to initialize a simple linear regression model. We then fit the model to the training data and use it to predict salaries based on the test data. This process allows us to quantify the relationship between years of experience and salary and make predictions accordingly."
   ]
  },
  {
   "cell_type": "code",
   "execution_count": 19,
   "id": "a42640b7",
   "metadata": {},
   "outputs": [],
   "source": [
    "from sklearn.linear_model import LinearRegression\n",
    "model=LinearRegression()\n",
    "model.fit(X_train,y_train)\n",
    "y_pred=model.predict(X_test)"
   ]
  },
  {
   "cell_type": "markdown",
   "id": "16620931",
   "metadata": {},
   "source": [
    "**6. Model Evaluation:**\n",
    "\n",
    "**Task:** The task in this phase is to evaluate the performance of the linear regression model and assess its accuracy in predicting salaries.\n",
    "\n",
    "**Why:** Model evaluation is crucial as it provides insights into how well the model generalizes to unseen data. By assessing various performance metrics, we can determine the model's effectiveness and identify areas for improvement. This phase ensures that the model is reliable and suitable for real-world applications.\n",
    "\n",
    "**Example:** Consider a scenario where you're testing a new smartphone. You want to ensure that it performs well under different conditions and meets your expectations. Similarly, in model evaluation, we assess the model's performance using metrics like Mean Absolute Error (MAE), Root Mean Squared Error (RMSE), and R-squared (R2) to gauge its predictive accuracy. For instance, a lower MAE and RMSE indicate better model performance, while a higher R2 value suggests that the model explains a larger proportion of the variance in the target variable. By analyzing these metrics, we can determine whether the model meets the desired criteria for accuracy and reliability.\n",
    "\n",
    "**Techniques:**\n",
    "\n",
    "1. **Cross-Validation:** Cross-validation techniques such as k-fold cross-validation help assess the model's performance on different subsets of the data, ensuring robustness and reliability.\n",
    "\n",
    "2. **Residual Analysis:** Examining the residuals (the differences between actual and predicted values) allows us to identify patterns or trends that the model may have missed.\n",
    "\n",
    "3. **Feature Importance:** Analyzing the importance of features in the model helps understand which variables have the most significant impact on the predictions.\n",
    "\n",
    "```python\n",
    "from sklearn.metrics import mean_absolute_error, mean_squared_error, r2_score\n",
    "\n",
    "# Calculate mean absolute error\n",
    "mae = mean_absolute_error(y_test, y_pred)\n",
    "\n",
    "# Calculate root mean squared error\n",
    "rmse = mean_squared_error(y_test, y_pred, squared=False)\n",
    "\n",
    "# Calculate R-squared\n",
    "r2 = r2_score(y_test, y_pred)\n",
    "```\n",
    "\n",
    "In the code sample above, we use scikit-learn's `mean_absolute_error`, `mean_squared_error`, and `r2_score` functions to compute evaluation metrics such as MAE, RMSE, and R-squared. These metrics provide valuable insights into the model's performance and guide decision-making in model selection and refinement."
   ]
  },
  {
   "cell_type": "code",
   "execution_count": 20,
   "id": "ca7125c2",
   "metadata": {},
   "outputs": [
    {
     "name": "stderr",
     "output_type": "stream",
     "text": [
      "c:\\Users\\91822\\AppData\\Local\\Programs\\Python\\Python311\\Lib\\site-packages\\sklearn\\metrics\\_regression.py:483: FutureWarning: 'squared' is deprecated in version 1.4 and will be removed in 1.6. To calculate the root mean squared error, use the function'root_mean_squared_error'.\n",
      "  warnings.warn(\n"
     ]
    }
   ],
   "source": [
    "from sklearn.metrics import mean_absolute_error,mean_squared_error,r2_score\n",
    "mae=mean_absolute_error(y_test,y_pred)\n",
    "rmse=mean_squared_error(y_test,y_pred,squared=False)\n",
    "r2=r2_score(y_test,y_pred)"
   ]
  },
  {
   "cell_type": "code",
   "execution_count": 21,
   "id": "a2d39cce",
   "metadata": {},
   "outputs": [
    {
     "name": "stdout",
     "output_type": "stream",
     "text": [
      "6286.453830757747\n",
      "7059.0436219015055\n",
      "0.9024461774180499\n"
     ]
    }
   ],
   "source": [
    "print(mae)\n",
    "print(rmse)\n",
    "print(r2)"
   ]
  },
  {
   "cell_type": "code",
   "execution_count": 22,
   "id": "01735c6f",
   "metadata": {},
   "outputs": [
    {
     "name": "stdout",
     "output_type": "stream",
     "text": [
      "Predicted salary: 72440.6596269317\n"
     ]
    },
    {
     "name": "stderr",
     "output_type": "stream",
     "text": [
      "c:\\Users\\91822\\AppData\\Local\\Programs\\Python\\Python311\\Lib\\site-packages\\sklearn\\base.py:493: UserWarning: X does not have valid feature names, but StandardScaler was fitted with feature names\n",
      "  warnings.warn(\n"
     ]
    }
   ],
   "source": [
    "# Assuming you have already imported necessary libraries and trained your model as in your provided code\n",
    "\n",
    "# Take input from the user for years of experience\n",
    "years_exp_input = float(input(\"Enter years of experience: \"))\n",
    "\n",
    "# Scale the input using the same scaler used for training\n",
    "scaled_input = scaler.transform([[years_exp_input]])\n",
    "\n",
    "# Predict the salary for the input years of experience\n",
    "predicted_salary = model.predict(scaled_input)\n",
    "\n",
    "# Print the predicted salary\n",
    "print(\"Predicted salary:\", predicted_salary[0])\n"
   ]
  },
  {
   "cell_type": "markdown",
   "id": "09d74192",
   "metadata": {},
   "source": [
    "**7. Conclusion and Decision Making:**\n",
    "\n",
    "**Task:** The final task is to draw conclusions based on the insights gained from the analysis and make informed decisions.\n",
    "\n",
    "**Why:** Conclusions derived from the analysis drive actions and decision-making processes. By synthesizing the findings, we can provide recommendations and insights that inform business strategies and decision-making.\n",
    "\n",
    "**Example:** Drawing conclusions is like summarizing the key takeaways from a research study and using them to guide future actions. In our salary prediction project, we may conclude that years of experience have a significant impact on salary levels. Armed with this insight, organizations can make data-driven decisions regarding employee compensation, recruitment, and talent management strategies. Additionally, conclusions drawn from the analysis can inform individual career choices and negotiations.\n",
    "\n",
    "**Techniques:**\n",
    "\n",
    "1. **Insights Synthesis:** Consolidate key findings from the data analysis process, including patterns, trends, and relationships identified during exploratory data analysis and model evaluation.\n",
    "\n",
    "2. **Impact Assessment:** Evaluate the implications of the insights on business objectives, organizational strategies, and individual decision-making.\n",
    "\n",
    "3. **Actionable Recommendations:** Provide actionable recommendations based on the conclusions drawn from the analysis. These recommendations should be specific, measurable, and aligned with the project's objectives.\n",
    "\n",
    "**Tips for Conclusion:**\n",
    "\n",
    "1. **Be Clear and Concise:** Present conclusions in a clear and concise manner, focusing on the most significant insights and recommendations.\n",
    "\n",
    "2. **Consider Stakeholder Perspectives:** Tailor conclusions to address the needs and priorities of relevant stakeholders, such as business leaders, HR professionals, and individual employees.\n",
    "\n",
    "3. **Quantify Results:** Whenever possible, quantify the impact of the insights on key performance indicators or business metrics to demonstrate the value of the analysis.\n",
    "\n",
    "4. **Future Directions:** Identify areas for further exploration or refinement, such as additional data sources, alternative modeling techniques, or follow-up analyses to validate findings.\n",
    "\n",
    "By following these tips and techniques, you can effectively conclude the project, providing stakeholders with actionable insights and recommendations that drive informed decision-making and strategic planning."
   ]
  },
  {
   "cell_type": "code",
   "execution_count": 24,
   "id": "c8991de5",
   "metadata": {},
   "outputs": [
    {
     "name": "stdout",
     "output_type": "stream",
     "text": [
      "Model saved to linear_regression_model.pkl\n"
     ]
    }
   ],
   "source": [
    "import pickle\n",
    "model_file_path = 'linear_regression_model.pkl'\n",
    "\n",
    "# Open the file in binary write mode\n",
    "with open(model_file_path, 'wb') as file:\n",
    "    # Serialize and save the model to the file\n",
    "    pickle.dump(model, file)\n",
    "\n",
    "print(f\"Model saved to {model_file_path}\")\n"
   ]
  }
 ],
 "metadata": {
  "kernelspec": {
   "display_name": "Python 3 (ipykernel)",
   "language": "python",
   "name": "python3"
  },
  "language_info": {
   "codemirror_mode": {
    "name": "ipython",
    "version": 3
   },
   "file_extension": ".py",
   "mimetype": "text/x-python",
   "name": "python",
   "nbconvert_exporter": "python",
   "pygments_lexer": "ipython3",
   "version": "3.11.4"
  }
 },
 "nbformat": 4,
 "nbformat_minor": 5
}
